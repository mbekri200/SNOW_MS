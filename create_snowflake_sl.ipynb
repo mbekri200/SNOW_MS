{
 "cells": [
  {
   "cell_type": "markdown",
   "metadata": {},
   "source": [
    "1) Créer le Semantic Layer "
   ]
  },
  {
   "cell_type": "code",
   "execution_count": 2,
   "metadata": {},
   "outputs": [
    {
     "name": "stdout",
     "output_type": "stream",
     "text": [
      " create schema if not exists analytics.JF_SMS \n",
      " [Row(status='JF_SMS already exists, statement succeeded.')] \n",
      "\n",
      " create tag if not exists analytics.JF_SMS.SNOW_MS_JAFFLE_SHOP_OBJECT \n",
      " [Row(status='SNOW_MS_JAFFLE_SHOP_OBJECT already exists, statement succeeded.')] \n",
      "\n",
      " create tag if not exists analytics.JF_SMS.SNOW_MS_JAFFLE_SHOP_SEMANTIC_MODEL_METADATA \n",
      " [Row(status='SNOW_MS_JAFFLE_SHOP_SEMANTIC_MODEL_METADATA already exists, statement succeeded.')] \n",
      "\n",
      " create tag if not exists analytics.JF_SMS.SNOW_MS_JAFFLE_SHOP_SEMANTIC_MODEL_DIMENSIONS \n",
      " [Row(status='SNOW_MS_JAFFLE_SHOP_SEMANTIC_MODEL_DIMENSIONS already exists, statement succeeded.')] \n",
      "\n",
      " create tag if not exists analytics.JF_SMS.SNOW_MS_JAFFLE_SHOP_MEASURES \n",
      " [Row(status='SNOW_MS_JAFFLE_SHOP_MEASURES already exists, statement succeeded.')] \n",
      "\n"
     ]
    }
   ],
   "source": [
    "from sm_model_classes import Semantic_Layer, SemanticModel, Entity , Dimension, Measure\n",
    "import json \n",
    "from snowflake.snowpark import Session, DataFrame, Window, WindowSpec\n",
    "\n",
    "\n",
    "connection_parameters = json.load(open('connection.json'))\n",
    "session = Session.builder.configs(connection_parameters).create()\n",
    "\n",
    "SL_JF= self=Semantic_Layer(session, 'analytics','JF_SMS') #Instance de la classe semantic layer\n",
    "\n",
    "SL_JF.create_semantic_layer() #Créer le Sematic_layer: Schéma dans snowflake "
   ]
  },
  {
   "cell_type": "markdown",
   "metadata": {},
   "source": [
    "2) Définition des Entities"
   ]
  },
  {
   "cell_type": "code",
   "execution_count": 3,
   "metadata": {},
   "outputs": [
    {
     "name": "stdout",
     "output_type": "stream",
     "text": [
      "CREATE TAG IF NOT EXISTS analytics.JF_SMS.SNOW_METRIC_STORE_ENTITY_ORDERS\n",
      "                    ALLOWED_VALUES 'order_id'\n",
      "                    COMMENT = 'Primary Key for orders' \n",
      " [Row(status='SNOW_METRIC_STORE_ENTITY_ORDERS already exists, statement succeeded.')] \n",
      "\n"
     ]
    }
   ],
   "source": [
    "e = Entity(entity_name='ORDERS', join_keys='order_id',desc='Primary Key for orders')   #entité \"Orders\" définie par la clé order_id\n",
    "SL_JF.register_entity(e)    #enregistrer l'entité orders dans le semantic layer SL_JF\n"
   ]
  },
  {
   "cell_type": "code",
   "execution_count": 4,
   "metadata": {},
   "outputs": [
    {
     "name": "stdout",
     "output_type": "stream",
     "text": [
      "---------------------------------------------------------------------------------------------------------------------------------------------------------------------------------------\n",
      "|\"created_on\"                      |\"name\"                           |\"database_name\"  |\"schema_name\"  |\"owner\"       |\"comment\"               |\"allowed_values\"  |\"owner_role_type\"  |\n",
      "---------------------------------------------------------------------------------------------------------------------------------------------------------------------------------------\n",
      "|2024-07-14 11:26:47.928000-07:00  |SNOW_METRIC_STORE_ENTITY_ORDERS  |ANALYTICS        |JF_SMS         |ACCOUNTADMIN  |Primary Key for orders  |[\"order_id\"]      |ROLE               |\n",
      "---------------------------------------------------------------------------------------------------------------------------------------------------------------------------------------\n",
      "\n",
      "---------------------------------------------------------------------------\n",
      "|\"ENTITY_NAME\"                    |\"KEYS\"        |\"DESCRIPTION\"           |\n",
      "---------------------------------------------------------------------------\n",
      "|SNOW_METRIC_STORE_ENTITY_ORDERS  |[\"order_id\"]  |Primary Key for orders  |\n",
      "---------------------------------------------------------------------------\n",
      "\n"
     ]
    }
   ],
   "source": [
    "SL_JF.get_entities()   #lister les entités du semantic layer\n",
    "#penser à ajouterle user & date de mise à jour \n"
   ]
  },
  {
   "cell_type": "markdown",
   "metadata": {},
   "source": [
    "Ajouter des modeles au SL: "
   ]
  },
  {
   "cell_type": "code",
   "execution_count": 5,
   "metadata": {},
   "outputs": [
    {
     "name": "stdout",
     "output_type": "stream",
     "text": [
      "CREATE or replace view analytics.JF_SMS.orders\n",
      "                COMMENT = ' '\n",
      "                TAG (\n",
      "                    analytics.JF_SMS.SNOW_MS_JAFFLE_SHOP_OBJECT = '{\"type\": \"sm_view\"}',\n",
      "analytics.JF_SMS.SNOW_MS_JAFFLE_SHOP_SEMANTIC_MODEL_METADATA = '{\"entities\": [\"ORDERS\"], \"timestamp_col\": \"order_date\"}',\n",
      "analytics.JF_SMS.SNOW_METRIC_STORE_ENTITY_ORDERS = 'order_id'\n",
      "                )\n",
      "                AS (select * from RAW.DMT_SCHEMA.FCT_ORDERS) \n",
      " [Row(status='View ORDERS successfully created.')] \n",
      "\n"
     ]
    }
   ],
   "source": [
    "from sm_model_classes import Semantic_Layer, SemanticModel, Entity , Dimension, Measure\n",
    "\n",
    "\n",
    "SM=SemanticModel('orders','RAW','DMT_SCHEMA','FCT_ORDERS',e,'order_date','Order fact table. This table’s grain is one row per order')\n",
    "\n",
    "\n",
    "SL_JF.register_semantic_model(SM)"
   ]
  },
  {
   "cell_type": "markdown",
   "metadata": {},
   "source": [
    "Ajouter les dimensions du Modéle sémantique SM"
   ]
  },
  {
   "cell_type": "code",
   "execution_count": 6,
   "metadata": {},
   "outputs": [
    {
     "name": "stdout",
     "output_type": "stream",
     "text": [
      "ALTER TABLE analytics.JF_SMS.orders MODIFY COLUMN CUSTOMER_ID SET TAG SNOW_MS_JAFFLE_SHOP_SEMANTIC_MODEL_DIMENSIONS = '{\"type\":\"categorical\", \"type_params\":,\"descripton\":the customer id}';\n",
      " \n",
      " [Row(status='Statement executed successfully.')] \n",
      "\n",
      "use schema analytics.JF_SMS;  \n",
      " [Row(status='Statement executed successfully.')] \n",
      "\n",
      "---------------------------------------------------------------------------------------\n",
      "|\"SEMANTIC_MODEL\"  |\"DIMENSION\"  |\"DIMENSION_DETAILS\"                                 |\n",
      "---------------------------------------------------------------------------------------\n",
      "|ORDERS            |CUSTOMER_ID  |{\"type\":\"categorical\", \"type_params\":,\"descript...  |\n",
      "---------------------------------------------------------------------------------------\n",
      "\n"
     ]
    },
    {
     "data": {
      "text/plain": [
       "<snowflake.snowpark.dataframe.DataFrame at 0x7fdf168ddf00>"
      ]
     },
     "execution_count": 6,
     "metadata": {},
     "output_type": "execute_result"
    }
   ],
   "source": [
    "dimension=Dimension('CUSTOMER_ID','categorical','','the customer id')    #instance\n",
    "SL_JF.register_dimension(SM,dimension)   #enregistrer la dimension du modèle SM\n",
    "\n",
    "SL_JF.get_dimensions(SM)      #lister les dimensions du modéle SM"
   ]
  },
  {
   "cell_type": "code",
   "execution_count": 33,
   "metadata": {},
   "outputs": [
    {
     "name": "stdout",
     "output_type": "stream",
     "text": [
      "use schema analytics.JF_SMS;  \n",
      " [Row(status='Statement executed successfully.')] \n",
      "\n",
      "---------------------------------------------------------------------------------------------------------------------------------------------\n",
      "|\"SEMANTIC_MODEL\"  |\"MEASURE\"                           |\"DESCRIPTION\"                                       |\"AGGREGATION\"  |\"EXPRESSION\"  |\n",
      "---------------------------------------------------------------------------------------------------------------------------------------------\n",
      "|ORDERS            |SNOW_MS_MEASURE_ORDERS_ORDER_TOTAL  |\"The total amount for each order including taxes.\"  |\"sum\"          |\"amount\"      |\n",
      "---------------------------------------------------------------------------------------------------------------------------------------------\n",
      "\n"
     ]
    },
    {
     "data": {
      "text/plain": [
       "<snowflake.snowpark.dataframe.DataFrame at 0x7fdf0ea4b310>"
      ]
     },
     "execution_count": 33,
     "metadata": {},
     "output_type": "execute_result"
    }
   ],
   "source": [
    "\n",
    "\n",
    "measure=Measure('order_total','The total amount for each order including taxes.','sum','amount')#créer une instance mesure \n",
    "\n",
    "   \n",
    "SL_JF.register_measure(SM,measure)     #affecter la mesure measure au SM (colonne utilisée : amount)\n",
    "\n",
    "\n",
    "SL_JF.get_measures(SM)"
   ]
  }
 ],
 "metadata": {
  "kernelspec": {
   "display_name": "py-snowpark-metric-store",
   "language": "python",
   "name": "python3"
  },
  "language_info": {
   "codemirror_mode": {
    "name": "ipython",
    "version": 3
   },
   "file_extension": ".py",
   "mimetype": "text/x-python",
   "name": "python",
   "nbconvert_exporter": "python",
   "pygments_lexer": "ipython3",
   "version": "3.10.14"
  }
 },
 "nbformat": 4,
 "nbformat_minor": 2
}
